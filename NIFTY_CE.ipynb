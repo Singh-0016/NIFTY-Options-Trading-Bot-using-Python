{
 "cells": [
  {
   "cell_type": "code",
   "execution_count": 1,
   "metadata": {},
   "outputs": [],
   "source": [
    "import requests\n",
    "from tvDatafeed import TvDatafeed,Interval\n",
    "import pandas as pd\n",
    "import talib\n",
    "from sklearn.impute import SimpleImputer\n",
    "from datetime import datetime, timedelta\n",
    "imputer = SimpleImputer(strategy='mean')\n"
   ]
  },
  {
   "cell_type": "code",
   "execution_count": 2,
   "metadata": {},
   "outputs": [
    {
     "name": "stdout",
     "output_type": "stream",
     "text": [
      "                datetime     symbol      open      high       low     close  \\\n",
      "0    2023-08-31 12:25:00  NSE:NIFTY  19299.75  19305.90  19292.05  19305.50   \n",
      "1    2023-08-31 12:30:00  NSE:NIFTY  19305.75  19308.40  19301.40  19302.00   \n",
      "2    2023-08-31 12:35:00  NSE:NIFTY  19303.10  19304.60  19297.90  19300.70   \n",
      "3    2023-08-31 12:40:00  NSE:NIFTY  19302.50  19311.85  19297.05  19308.95   \n",
      "4    2023-08-31 12:45:00  NSE:NIFTY  19309.65  19317.95  19302.55  19308.05   \n",
      "...                  ...        ...       ...       ...       ...       ...   \n",
      "4995 2023-12-08 15:05:00  NSE:NIFTY  20960.25  20973.05  20957.55  20972.40   \n",
      "4996 2023-12-08 15:10:00  NSE:NIFTY  20973.40  20979.15  20964.25  20978.15   \n",
      "4997 2023-12-08 15:15:00  NSE:NIFTY  20977.90  20978.20  20967.15  20974.80   \n",
      "4998 2023-12-08 15:20:00  NSE:NIFTY  20975.55  20979.55  20966.80  20977.90   \n",
      "4999 2023-12-08 15:25:00  NSE:NIFTY  20978.20  20983.00  20970.65  20972.10   \n",
      "\n",
      "         volume  year  hour  minute        EMA_14       MACD  engulfing  \\\n",
      "0     2923919.0  2023    12      25           NaN        NaN          0   \n",
      "1     2989603.0  2023    12      30           NaN        NaN          0   \n",
      "2     2565585.0  2023    12      35           NaN        NaN          0   \n",
      "3     3275283.0  2023    12      40           NaN        NaN          0   \n",
      "4     3816083.0  2023    12      45           NaN        NaN          0   \n",
      "...         ...   ...   ...     ...           ...        ...        ...   \n",
      "4995  5597162.0  2023    15       5  20932.112892   7.756261          0   \n",
      "4996  7115905.0  2023    15      10  20938.251173  10.647707          0   \n",
      "4997  7287747.0  2023    15      15  20943.124350  12.524507          0   \n",
      "4998  6792865.0  2023    15      20  20947.761104  14.099498          0   \n",
      "4999  6142554.0  2023    15      25  20951.006290  14.710109       -100   \n",
      "\n",
      "      hammer  shooting_star  \n",
      "0          0              0  \n",
      "1          0              0  \n",
      "2          0              0  \n",
      "3          0              0  \n",
      "4          0              0  \n",
      "...      ...            ...  \n",
      "4995       0              0  \n",
      "4996       0              0  \n",
      "4997       0              0  \n",
      "4998       0              0  \n",
      "4999       0              0  \n",
      "\n",
      "[5000 rows x 15 columns]\n"
     ]
    },
    {
     "data": {
      "text/plain": [
       "Index(['datetime', 'symbol', 'open', 'high', 'low', 'close', 'volume', 'year',\n",
       "       'hour', 'minute', 'EMA_14', 'MACD', 'engulfing', 'hammer',\n",
       "       'shooting_star'],\n",
       "      dtype='object')"
      ]
     },
     "execution_count": 2,
     "metadata": {},
     "output_type": "execute_result"
    }
   ],
   "source": [
    "path = pd.read_csv('NIFTY.csv')\n",
    "five_min_data= pd.DataFrame(path)\n",
    "\n",
    "five_min_data['datetime']=pd.to_datetime(five_min_data['datetime'])\n",
    "five_min_data['year'] = five_min_data['datetime'].dt.year\n",
    "five_min_data['hour'] = five_min_data['datetime'].dt.hour\n",
    "five_min_data['minute'] = five_min_data['datetime'].dt.minute\n",
    "\n",
    "#candlestick Patterns, macd, ema_14_period\n",
    "\n",
    "five_min_data['EMA_14'] = talib.EMA(five_min_data['close'],timeperiod=14)\n",
    "macd, macdsignal, macdhist = talib.MACD(five_min_data['close'], fastperiod=12, slowperiod=26, signalperiod=9)\n",
    "five_min_data['MACD'] = macd\n",
    "five_min_data['engulfing'] = talib.CDLENGULFING(five_min_data['open'], five_min_data['high'], five_min_data['low'],five_min_data['close'])\n",
    "#five_min_data['dragonfly'] = talib.CDLDRAGONFLYDOJI(five_min_data['open'], five_min_data['high'], five_min_data['low'],five_min_data['close'])\n",
    "five_min_data['hammer'] = talib.CDLHAMMER(five_min_data['open'], five_min_data['high'], five_min_data['low'],five_min_data['close'])\n",
    "#five_min_data['gravestone_doji'] = talib.CDLGRAVESTONEDOJI(five_min_data['open'], five_min_data['high'], five_min_data['low'],five_min_data['close'])\n",
    "five_min_data['shooting_star'] = talib.CDLSHOOTINGSTAR(five_min_data['open'], five_min_data['high'], five_min_data['low'],five_min_data['close'])\n",
    "print(five_min_data)\n",
    "five_min_data.columns"
   ]
  },
  {
   "cell_type": "code",
   "execution_count": 3,
   "metadata": {},
   "outputs": [],
   "source": [
    "five_min_data=five_min_data.iloc[201:].reset_index(drop=True)\n",
    "start_ind=[]\n",
    "X_train=[]\n",
    "y_train=[]\n",
    "y_train_pos=[]\n",
    "gain=[]\n",
    "\n",
    "for j in range(len(five_min_data.index)):\n",
    "    if five_min_data['hour'][j]==9 and five_min_data['minute'][j]==15: # Getting the indices where the trading day starts\n",
    "        start_ind.append(j)\n",
    "end_ind=[] # end of the day indices\n",
    "for j in range(1,len(start_ind)): #starting from 1 because we dont want an end without the start of a day which is the case for start_of_day[0]-1\n",
    "    end_ind.append(start_ind[j]-1)\n",
    "\n",
    "\n",
    "if len(start_ind)>len(end_ind):\n",
    "    start_ind=start_ind[:-1]\n",
    "\n",
    "j=0\n",
    "while j<len(start_ind):\n",
    "    if end_ind[j]-start_ind[j]!=74:\n",
    "        end_ind.remove(end_ind[j])\n",
    "        start_ind.remove(start_ind[j])\n",
    "        continue\n",
    "    df_new=five_min_data.iloc[start_ind[j]+2:end_ind[j]-2].drop(['symbol','datetime','year','hour','minute'],axis=1)\n",
    "\n",
    "    #---------------------------------------------------------------------------------------------------------------------------------------------------------------------#\n",
    "    df_new = pd.DataFrame(imputer.fit_transform(df_new))\n",
    "    if len(df_new.columns)==len(five_min_data.columns)-5:\n",
    "        X_train.append(df_new.values.flatten())\n",
    "    else:\n",
    "        end_ind.remove(end_ind[j])\n",
    "        start_ind.remove(start_ind[j])\n",
    "    j+=1\n",
    "\n",
    "for j in end_ind:\n",
    "    gain_inst=(five_min_data['close'][j+7]-five_min_data['close'][j-2])#*100/five_min_data['close'][j-2] # gain at the particular instant diff. between 10:00am - 11:30am\n",
    "    gain.append(gain_inst)  # i+2 indicates the next day at 9:20(as we need to let the price settle) and i-2 at time 3:15 as we need to trade before the day ends and we cant trade ecaxtly at the end of the day\n",
    "    \n",
    "y_train=gain"
   ]
  },
  {
   "cell_type": "code",
   "execution_count": 4,
   "metadata": {},
   "outputs": [],
   "source": [
    "from sklearn.preprocessing import MinMaxScaler\n",
    "\n",
    "# Normalizing the data\n",
    "scaler = MinMaxScaler()\n",
    "X_train = scaler.fit_transform(X_train)\n"
   ]
  },
  {
   "cell_type": "code",
   "execution_count": 5,
   "metadata": {},
   "outputs": [
    {
     "data": {
      "text/html": [
       "<style>#sk-container-id-1 {color: black;}#sk-container-id-1 pre{padding: 0;}#sk-container-id-1 div.sk-toggleable {background-color: white;}#sk-container-id-1 label.sk-toggleable__label {cursor: pointer;display: block;width: 100%;margin-bottom: 0;padding: 0.3em;box-sizing: border-box;text-align: center;}#sk-container-id-1 label.sk-toggleable__label-arrow:before {content: \"▸\";float: left;margin-right: 0.25em;color: #696969;}#sk-container-id-1 label.sk-toggleable__label-arrow:hover:before {color: black;}#sk-container-id-1 div.sk-estimator:hover label.sk-toggleable__label-arrow:before {color: black;}#sk-container-id-1 div.sk-toggleable__content {max-height: 0;max-width: 0;overflow: hidden;text-align: left;background-color: #f0f8ff;}#sk-container-id-1 div.sk-toggleable__content pre {margin: 0.2em;color: black;border-radius: 0.25em;background-color: #f0f8ff;}#sk-container-id-1 input.sk-toggleable__control:checked~div.sk-toggleable__content {max-height: 200px;max-width: 100%;overflow: auto;}#sk-container-id-1 input.sk-toggleable__control:checked~label.sk-toggleable__label-arrow:before {content: \"▾\";}#sk-container-id-1 div.sk-estimator input.sk-toggleable__control:checked~label.sk-toggleable__label {background-color: #d4ebff;}#sk-container-id-1 div.sk-label input.sk-toggleable__control:checked~label.sk-toggleable__label {background-color: #d4ebff;}#sk-container-id-1 input.sk-hidden--visually {border: 0;clip: rect(1px 1px 1px 1px);clip: rect(1px, 1px, 1px, 1px);height: 1px;margin: -1px;overflow: hidden;padding: 0;position: absolute;width: 1px;}#sk-container-id-1 div.sk-estimator {font-family: monospace;background-color: #f0f8ff;border: 1px dotted black;border-radius: 0.25em;box-sizing: border-box;margin-bottom: 0.5em;}#sk-container-id-1 div.sk-estimator:hover {background-color: #d4ebff;}#sk-container-id-1 div.sk-parallel-item::after {content: \"\";width: 100%;border-bottom: 1px solid gray;flex-grow: 1;}#sk-container-id-1 div.sk-label:hover label.sk-toggleable__label {background-color: #d4ebff;}#sk-container-id-1 div.sk-serial::before {content: \"\";position: absolute;border-left: 1px solid gray;box-sizing: border-box;top: 0;bottom: 0;left: 50%;z-index: 0;}#sk-container-id-1 div.sk-serial {display: flex;flex-direction: column;align-items: center;background-color: white;padding-right: 0.2em;padding-left: 0.2em;position: relative;}#sk-container-id-1 div.sk-item {position: relative;z-index: 1;}#sk-container-id-1 div.sk-parallel {display: flex;align-items: stretch;justify-content: center;background-color: white;position: relative;}#sk-container-id-1 div.sk-item::before, #sk-container-id-1 div.sk-parallel-item::before {content: \"\";position: absolute;border-left: 1px solid gray;box-sizing: border-box;top: 0;bottom: 0;left: 50%;z-index: -1;}#sk-container-id-1 div.sk-parallel-item {display: flex;flex-direction: column;z-index: 1;position: relative;background-color: white;}#sk-container-id-1 div.sk-parallel-item:first-child::after {align-self: flex-end;width: 50%;}#sk-container-id-1 div.sk-parallel-item:last-child::after {align-self: flex-start;width: 50%;}#sk-container-id-1 div.sk-parallel-item:only-child::after {width: 0;}#sk-container-id-1 div.sk-dashed-wrapped {border: 1px dashed gray;margin: 0 0.4em 0.5em 0.4em;box-sizing: border-box;padding-bottom: 0.4em;background-color: white;}#sk-container-id-1 div.sk-label label {font-family: monospace;font-weight: bold;display: inline-block;line-height: 1.2em;}#sk-container-id-1 div.sk-label-container {text-align: center;}#sk-container-id-1 div.sk-container {/* jupyter's `normalize.less` sets `[hidden] { display: none; }` but bootstrap.min.css set `[hidden] { display: none !important; }` so we also need the `!important` here to be able to override the default hidden behavior on the sphinx rendered scikit-learn.org. See: https://github.com/scikit-learn/scikit-learn/issues/21755 */display: inline-block !important;position: relative;}#sk-container-id-1 div.sk-text-repr-fallback {display: none;}</style><div id=\"sk-container-id-1\" class=\"sk-top-container\"><div class=\"sk-text-repr-fallback\"><pre>RandomForestRegressor(n_estimators=60, random_state=42)</pre><b>In a Jupyter environment, please rerun this cell to show the HTML representation or trust the notebook. <br />On GitHub, the HTML representation is unable to render, please try loading this page with nbviewer.org.</b></div><div class=\"sk-container\" hidden><div class=\"sk-item\"><div class=\"sk-estimator sk-toggleable\"><input class=\"sk-toggleable__control sk-hidden--visually\" id=\"sk-estimator-id-1\" type=\"checkbox\" checked><label for=\"sk-estimator-id-1\" class=\"sk-toggleable__label sk-toggleable__label-arrow\">RandomForestRegressor</label><div class=\"sk-toggleable__content\"><pre>RandomForestRegressor(n_estimators=60, random_state=42)</pre></div></div></div></div></div>"
      ],
      "text/plain": [
       "RandomForestRegressor(n_estimators=60, random_state=42)"
      ]
     },
     "execution_count": 5,
     "metadata": {},
     "output_type": "execute_result"
    }
   ],
   "source": [
    "from sklearn.ensemble import RandomForestRegressor\n",
    "from sklearn.utils import shuffle\n",
    "\n",
    "#shuffled data\n",
    "X_train_shuffled, y_train_shuffled = shuffle(X_train, y_train, random_state=42)\n",
    "\n",
    "rf_regressor=RandomForestRegressor(n_estimators=60,random_state=42)\n",
    "\n",
    "rf_regressor.fit(X_train_shuffled,y_train_shuffled)"
   ]
  },
  {
   "cell_type": "code",
   "execution_count": 6,
   "metadata": {},
   "outputs": [
    {
     "name": "stderr",
     "output_type": "stream",
     "text": [
      "you are using nologin method, data you access may be limited\n"
     ]
    },
    {
     "name": "stdout",
     "output_type": "stream",
     "text": [
      "\n",
      "Prdecting Nifty to go [104.8725] points from 2024-01-15 15:15:00 NIFTY at 22100.5\n",
      "\n",
      "Entry time :- 2024-01-15 15:15:00\n",
      "Stop Loss at: [31.46175] \n",
      "Profit book at : [94.38525]\n",
      "\n",
      "Buy 4 lot of CE strike price: -- 22100\n"
     ]
    }
   ],
   "source": [
    "tv=TvDatafeed()\n",
    "\n",
    "df = tv.get_hist(symbol='NIFTY',exchange='NSE',interval=Interval.in_5_minute,n_bars=800)\n",
    "df_n= pd.DataFrame(df)\n",
    "df_n=df_n.reset_index()\n",
    "df_n['datetime']=pd.to_datetime(df_n['datetime'])\n",
    "df_n['year'] = df_n['datetime'].dt.year\n",
    "df_n['hour'] = df_n['datetime'].dt.hour\n",
    "df_n['minute'] = df_n['datetime'].dt.minute\n",
    "#----------------------------------------------------------------------------------------------------------------------------------------------------------#\n",
    "\n",
    "df_n['EMA_14'] = talib.EMA(df_n['close'],timeperiod=14)\n",
    "macd, macdsignal, macdhist = talib.MACD(df_n['close'], fastperiod=12, slowperiod=26, signalperiod=9)\n",
    "df_n['MACD'] = macd\n",
    "df_n['engulfing'] = talib.CDLENGULFING(df_n['open'], df_n['high'], df_n['low'],df_n['close'])\n",
    "#df_n['dragonfly'] = talib.CDLDRAGONFLYDOJI(df_n['open'], df_n['high'], df_n['low'],df_n['close'])\n",
    "df_n['hammer'] = talib.CDLHAMMER(df_n['open'], df_n['high'], df_n['low'],df_n['close'])\n",
    "#df_n['gravestone_doji'] = talib.CDLGRAVESTONEDOJI(df_n['open'], df_n['high'], df_n['low'],df_n['close'])\n",
    "df_n['shooting_star'] = talib.CDLSHOOTINGSTAR(df_n['open'], df_n['high'], df_n['low'],df_n['close'])\n",
    "#df_n.to_csv('test1.csv')\n",
    "df_n= df_n.iloc[201:].reset_index(drop=True)\n",
    "#df_n.to_csv('test2.csv')\n",
    "#--------------------------------------------------------------------------------------------------------------------------------------------------------#\n",
    "engulf=[]\n",
    "engulf_sell=[0]\n",
    "\n",
    "for i in df_n.index:                    \n",
    "    if df_n['engulfing'][i] >0 :\n",
    "        engulf.append(i)\n",
    "  \n",
    "\n",
    "y = len(df_n.index)-engulf[-1]\n",
    "\n",
    "x_pred=[]\n",
    "price_arr=[]\n",
    "\n",
    "df_n=df_n.reset_index(drop=True)\n",
    "df_nn=df_n.iloc[-69-y:-y+1].drop(['symbol','datetime','year','hour','minute'],axis=1)\n",
    "#df_nn.to_csv('trading data.csv')\n",
    "x_pred.append(df_nn.values.flatten())\n",
    "x_pred_norm=scaler.transform(x_pred)\n",
    "y_pred=rf_regressor.predict(x_pred)\n",
    "z=df_n['datetime'][engulf[-1]]\n",
    "print(f\"\\nPrdecting Nifty to go {y_pred} points from {z} NIFTY at {df_n['close'][engulf[-1]]}\")\n",
    "print(f\"\\nEntry time :- {z}\\nStop Loss at: {.3*y_pred} \\nProfit book at : {.9*y_pred}\")\n",
    "\n",
    "\n",
    "##------------------------------------------------------------------------------------------------------------------------------------------------------##\n",
    "\n",
    "url = 'https://www.nseindia.com/api/option-chain-indices?symbol=NIFTY'\n",
    "\n",
    "headers= {\"Accept-Encoding\" : \"gzip, deflate, br\",\n",
    "          \"Accept-Language\": \"en-GB,en-US;q=0.9,en;q=0.8\",\n",
    "          \"User-Agent\": \"Mozilla/5.0 (Windows NT 10.0; Win64; x64) AppleWebKit/537.36 (KHTML, like Gecko) Chrome/120.0.0.0 Safari/537.36\"}\n",
    "\n",
    "session = requests.Session()\n",
    "data = session.get(url, headers=headers).json()['records']['data']\n",
    "ocdata =[]\n",
    "for i in data:\n",
    "    for j,k in i.items():\n",
    "        if j=='CE' or j==\"PE\":\n",
    "            info=k\n",
    "            info[\"instrumentType\"]= j\n",
    "            ocdata.append(info)\n",
    "\n",
    "ddf = pd.DataFrame(ocdata).drop(['underlying', 'openInterest','changeinOpenInterest', 'pchangeinOpenInterest', 'totalTradedVolume','impliedVolatility', 'change', 'pChange','totalBuyQuantity', 'totalSellQuantity', 'bidQty', 'bidprice', 'askQty','askPrice', 'underlyingValue', 'instrumentType'],axis=1)\n",
    "\n",
    "subt = (df_n['close'][engulf[-1]])%50\n",
    "st_price=(int(df_n['close'][engulf[-1]]-subt))\n",
    "options = []\n",
    "for i in ddf.index:\n",
    "    if ddf['strikePrice'][i] == st_price:\n",
    "        options.append(i)\n",
    "\n",
    "intiatl_bal = 25000\n",
    "call_position=[]\n",
    "sell_position=[]\n",
    "for i in options[0:2]:\n",
    "    if y_pred>0 and \"CE\" in ddf['identifier'][i]:\n",
    "        call_posn = int(intiatl_bal/ddf['lastPrice'][i])\n",
    "        call_posn = int(call_posn/50)\n",
    "        print(f\"\\nBuy {call_posn} lot of CE strike price: -- {ddf['strikePrice'][i]}\")\n",
    "\n",
    "    elif y_pred<0 and \"PE\" in ddf['identifier'][i]:\n",
    "        call_posn = int(intiatl_bal/ddf['lastPrice'][i])\n",
    "        call_posn = int(call_posn/50)\n",
    "        print(f\"\\n Buy {call_posn} lot of PE strike price: -- {ddf['strikePrice'][i]}\")\n",
    "    \n",
    "\n"
   ]
  }
 ],
 "metadata": {
  "kernelspec": {
   "display_name": "Python 3",
   "language": "python",
   "name": "python3"
  },
  "language_info": {
   "codemirror_mode": {
    "name": "ipython",
    "version": 3
   },
   "file_extension": ".py",
   "mimetype": "text/x-python",
   "name": "python",
   "nbconvert_exporter": "python",
   "pygments_lexer": "ipython3",
   "version": "3.10.1"
  }
 },
 "nbformat": 4,
 "nbformat_minor": 2
}
